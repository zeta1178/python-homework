{
 "cells": [
  {
   "cell_type": "code",
   "execution_count": 121,
   "id": "c208e341-c4d3-464c-b960-64cc5a2ae0a7",
   "metadata": {},
   "outputs": [
    {
     "name": "stdout",
     "output_type": "stream",
     "text": [
      "\n",
      "Financial Analysis\n",
      "\n",
      "-------------------------------\n",
      "\n",
      "Total Months:  86\n",
      "\n",
      "Total:  $38382578.00\n",
      "\n",
      "Average Change:  $-2315.12\n",
      "\n",
      "Greatest Increase in Profits:  Feb-2012 ( $1926159.00 )\n",
      "\n",
      "Greatest Decrease in Profits:  Sep-2013 ( $-2196167.00 )\n"
     ]
    }
   ],
   "source": [
    "import csv\n",
    "header_lines=1\n",
    "budget=[]\n",
    "new_budget=[]\n",
    "delta=[]\n",
    "total_value=0\n",
    "delta_value=0\n",
    "\n",
    "with open ('budget_data.csv', newline='') as csvfile:\n",
    "    readers=csv.reader(csvfile, delimiter=',')\n",
    "    [next(readers, None) for item in range(header_lines)]\n",
    "    for row in readers:\n",
    "        budget.append([(row[0]),int(row[1])])\n",
    "    total_months=len(budget)\n",
    "    for i in budget:  \n",
    "        new_budget.append(([i][0][1]))\n",
    "        total_value += ([i][0][1])\n",
    "    delta = [new_budget[i]-new_budget[i-1] for i in range(1,len(new_budget))]\n",
    "    index_max=delta.index(max(delta))\n",
    "    index_min=delta.index(min(delta))\n",
    "    for d in delta:\n",
    "        delta_value += d\n",
    "    avg_delta= round((delta_value)/len(delta),2)\n",
    "    \n",
    "    def format_dollars (amount, places):\n",
    "        return \"$%*.2f\"%(places + 3, amount)\n",
    "    \n",
    "    with open('results.txt', 'w') as f:\n",
    "        f.write('\\n')\n",
    "        f.write('Financial Analysis\\n')\n",
    "        f.write('\\n')\n",
    "        f.write('-------------------------------\\n')\n",
    "        f.write('\\n')\n",
    "        f.write('Total Months: %s\\n' % (str(total_months)))\n",
    "        f.write('\\n')\n",
    "        f.write(('Total: %s\\n' % (str(format_dollars(total_value,0)))))\n",
    "        f.write('\\n')\n",
    "        f.write(('Average Change: %s\\n' % (str(format_dollars(avg_delta,2)))))\n",
    "        f.write('\\n')\n",
    "        f.write(('Greatest Increase in Profits: %s (%s) \\n' % (budget[index_max+1][0],str(format_dollars(max_delta,2)))))\n",
    "        f.write('\\n')\n",
    "        f.write(('Greatest Decrease in Profits: %s (%s) \\n' % (budget[index_min+1][0],str(format_dollars(min_delta,2)))))\n",
    "        f.write('\\n')\n",
    "    \n",
    "    print()\n",
    "    print(\"Financial Analysis\")\n",
    "    print()\n",
    "    print(\"-------------------------------\")\n",
    "    print()\n",
    "    print(\"Total Months: \",total_months)\n",
    "    print()\n",
    "    print(\"Total: \",format_dollars(total_value,0))\n",
    "    print()\n",
    "    print(\"Average Change: \",format_dollars(avg_delta,2))\n",
    "    print()\n",
    "    print(\"Greatest Increase in Profits: \", budget[index_max+1][0], \"(\",format_dollars(max_delta,2), \")\")\n",
    "    print()\n",
    "    print(\"Greatest Decrease in Profits: \", budget[index_min+1][0], \"(\",format_dollars(min_delta,2), \")\")"
   ]
  },
  {
   "cell_type": "code",
   "execution_count": null,
   "id": "dd45dcfe-9f44-427c-a1ff-13305ef8eb74",
   "metadata": {},
   "outputs": [],
   "source": []
  }
 ],
 "metadata": {
  "kernelspec": {
   "display_name": "Python 3",
   "language": "python",
   "name": "python3"
  },
  "language_info": {
   "codemirror_mode": {
    "name": "ipython",
    "version": 3
   },
   "file_extension": ".py",
   "mimetype": "text/x-python",
   "name": "python",
   "nbconvert_exporter": "python",
   "pygments_lexer": "ipython3",
   "version": "3.8.8"
  }
 },
 "nbformat": 4,
 "nbformat_minor": 5
}
